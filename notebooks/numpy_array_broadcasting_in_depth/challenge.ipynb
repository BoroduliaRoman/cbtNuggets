{
 "cells": [
  {
   "cell_type": "code",
   "execution_count": 1,
   "id": "8ad2bf7b",
   "metadata": {},
   "outputs": [],
   "source": [
    "import numpy as np"
   ]
  },
  {
   "cell_type": "code",
   "execution_count": 4,
   "id": "5d808b7f",
   "metadata": {},
   "outputs": [
    {
     "data": {
      "text/plain": [
       "array([[8.2476800e+02, 1.4728000e+03, 7.3713640e+04, 5.0944152e+03],\n",
       "       [4.1440000e+00, 7.4000000e+00, 3.7037000e+02, 2.5596600e+01],\n",
       "       [4.8160000e+00, 8.6000000e+00, 4.3043000e+02, 2.9747400e+01],\n",
       "       [7.7840000e+00, 1.3900000e+01, 6.9569500e+02, 4.8080100e+01]])"
      ]
     },
     "execution_count": 4,
     "metadata": {},
     "output_type": "execute_result"
    }
   ],
   "source": [
    "stock_prices = np.array([5.6, 10.0, 500.5, 34.59])\n",
    "currency_coefficient = np.array([[147.28], [0.74], [0.86], [1.39]])\n",
    "\n",
    "stock_prices * currency_coefficient"
   ]
  }
 ],
 "metadata": {
  "kernelspec": {
   "display_name": ".venv",
   "language": "python",
   "name": "python3"
  },
  "language_info": {
   "codemirror_mode": {
    "name": "ipython",
    "version": 3
   },
   "file_extension": ".py",
   "mimetype": "text/x-python",
   "name": "python",
   "nbconvert_exporter": "python",
   "pygments_lexer": "ipython3",
   "version": "3.12.10"
  }
 },
 "nbformat": 4,
 "nbformat_minor": 5
}
