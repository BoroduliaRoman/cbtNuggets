{
 "cells": [
  {
   "cell_type": "code",
   "execution_count": 1,
   "id": "f947d440",
   "metadata": {},
   "outputs": [],
   "source": [
    "import numpy as np"
   ]
  },
  {
   "cell_type": "code",
   "execution_count": 5,
   "id": "b2df560f",
   "metadata": {},
   "outputs": [
    {
     "name": "stdout",
     "output_type": "stream",
     "text": [
      "[2 3 4 5]\n",
      "[False False  True  True]\n",
      "[ 1  4  9 16]\n"
     ]
    }
   ],
   "source": [
    "my_arr = np.array([1, 2, 3, 4])\n",
    "print(my_arr + 1)\n",
    "print(my_arr > 2)\n",
    "print(my_arr ** 2)"
   ]
  },
  {
   "cell_type": "code",
   "execution_count": 3,
   "id": "197ded13",
   "metadata": {},
   "outputs": [
    {
     "data": {
      "text/plain": [
       "[2, 3, 4, 5]"
      ]
     },
     "execution_count": 3,
     "metadata": {},
     "output_type": "execute_result"
    }
   ],
   "source": [
    "def plus_one(x):\n",
    "    return x + 1\n",
    "\n",
    "list(map(plus_one, [1, 2, 3, 4]))"
   ]
  },
  {
   "cell_type": "code",
   "execution_count": 10,
   "id": "7a754008",
   "metadata": {},
   "outputs": [
    {
     "name": "stdout",
     "output_type": "stream",
     "text": [
      "[101 202 303 404]\n",
      "[False False False False]\n",
      "[        100       40000    27000000 25600000000]\n"
     ]
    }
   ],
   "source": [
    "my_arr2 = np.array([100, 200, 300, 400])\n",
    "\n",
    "print(my_arr + my_arr2)\n",
    "print(my_arr > my_arr2)\n",
    "print(my_arr2 ** my_arr)"
   ]
  }
 ],
 "metadata": {
  "kernelspec": {
   "display_name": ".venv",
   "language": "python",
   "name": "python3"
  },
  "language_info": {
   "codemirror_mode": {
    "name": "ipython",
    "version": 3
   },
   "file_extension": ".py",
   "mimetype": "text/x-python",
   "name": "python",
   "nbconvert_exporter": "python",
   "pygments_lexer": "ipython3",
   "version": "3.12.10"
  }
 },
 "nbformat": 4,
 "nbformat_minor": 5
}
