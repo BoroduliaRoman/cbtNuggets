{
 "cells": [
  {
   "cell_type": "code",
   "execution_count": 1,
   "id": "2c478d19",
   "metadata": {},
   "outputs": [],
   "source": [
    "import numpy as np"
   ]
  },
  {
   "cell_type": "code",
   "execution_count": 6,
   "id": "350eb8f7",
   "metadata": {},
   "outputs": [
    {
     "name": "stdout",
     "output_type": "stream",
     "text": [
      "[[ 0  1  2  3]\n",
      " [ 4  5  6  7]\n",
      " [ 8  9 10 11]\n",
      " [12 13 14 15]]\n",
      "\n",
      "[[  0  10  20  30]\n",
      " [ 40  50  60  70]\n",
      " [ 80  90 100 110]\n",
      " [120 130 140 150]]\n"
     ]
    }
   ],
   "source": [
    "my_arr_2d = np.arange(0, 16).reshape((4, 4))\n",
    "print(my_arr_2d)\n",
    "\n",
    "print()\n",
    "\n",
    "my_arr_2d_2d = np.arange(0, 160, 10).reshape((4, 4))\n",
    "print(my_arr_2d_2d)"
   ]
  },
  {
   "cell_type": "code",
   "execution_count": 8,
   "id": "41d91c2c",
   "metadata": {},
   "outputs": [
    {
     "data": {
      "text/plain": [
       "array([[   0,   -9,  -18,  -27],\n",
       "       [ -36,  -45,  -54,  -63],\n",
       "       [ -72,  -81,  -90,  -99],\n",
       "       [-108, -117, -126, -135]])"
      ]
     },
     "execution_count": 8,
     "metadata": {},
     "output_type": "execute_result"
    }
   ],
   "source": [
    "my_arr_2d - my_arr_2d_2d"
   ]
  },
  {
   "cell_type": "code",
   "execution_count": 10,
   "id": "6b306e35",
   "metadata": {},
   "outputs": [
    {
     "name": "stdout",
     "output_type": "stream",
     "text": [
      "[[ 0  1  2  3]\n",
      " [ 4  5  6  7]\n",
      " [ 8  9 10 11]\n",
      " [12 13 14 15]]\n",
      "\n",
      "[[ 0 10 20 30]\n",
      " [40 50 60 70]]\n"
     ]
    }
   ],
   "source": [
    "my_arr_2d = np.arange(0, 16).reshape((4, 4))\n",
    "print(my_arr_2d)\n",
    "\n",
    "print()\n",
    "\n",
    "my_arr_2d_2d = np.arange(0, 80, 10).reshape((2, 4))\n",
    "print(my_arr_2d_2d)"
   ]
  },
  {
   "cell_type": "code",
   "execution_count": 15,
   "id": "7d101389",
   "metadata": {},
   "outputs": [
    {
     "data": {
      "text/plain": [
       "array([[2, 3, 4],\n",
       "       [3, 4, 5],\n",
       "       [4, 5, 6],\n",
       "       [5, 6, 7]])"
      ]
     },
     "execution_count": 15,
     "metadata": {},
     "output_type": "execute_result"
    }
   ],
   "source": [
    "three_by_one = np.array([1, 2, 3])\n",
    "one_by_four = np.array([[1], [2], [3], [4]])\n",
    "\n",
    "three_by_one + one_by_four"
   ]
  },
  {
   "cell_type": "code",
   "execution_count": 19,
   "id": "eff40439",
   "metadata": {},
   "outputs": [
    {
     "data": {
      "text/plain": [
       "array([[  1,   2,   3,   4,   5,   6,   7,   8,   9,  10,  11,  12],\n",
       "       [  2,   4,   6,   8,  10,  12,  14,  16,  18,  20,  22,  24],\n",
       "       [  3,   6,   9,  12,  15,  18,  21,  24,  27,  30,  33,  36],\n",
       "       [  4,   8,  12,  16,  20,  24,  28,  32,  36,  40,  44,  48],\n",
       "       [  5,  10,  15,  20,  25,  30,  35,  40,  45,  50,  55,  60],\n",
       "       [  6,  12,  18,  24,  30,  36,  42,  48,  54,  60,  66,  72],\n",
       "       [  7,  14,  21,  28,  35,  42,  49,  56,  63,  70,  77,  84],\n",
       "       [  8,  16,  24,  32,  40,  48,  56,  64,  72,  80,  88,  96],\n",
       "       [  9,  18,  27,  36,  45,  54,  63,  72,  81,  90,  99, 108],\n",
       "       [ 10,  20,  30,  40,  50,  60,  70,  80,  90, 100, 110, 120],\n",
       "       [ 11,  22,  33,  44,  55,  66,  77,  88,  99, 110, 121, 132],\n",
       "       [ 12,  24,  36,  48,  60,  72,  84,  96, 108, 120, 132, 144]])"
      ]
     },
     "execution_count": 19,
     "metadata": {},
     "output_type": "execute_result"
    }
   ],
   "source": [
    "top = np.arange(1, 13)\n",
    "side = np.arange(1, 13).reshape(-1, 1)\n",
    "\n",
    "top * side"
   ]
  }
 ],
 "metadata": {
  "kernelspec": {
   "display_name": ".venv",
   "language": "python",
   "name": "python3"
  },
  "language_info": {
   "codemirror_mode": {
    "name": "ipython",
    "version": 3
   },
   "file_extension": ".py",
   "mimetype": "text/x-python",
   "name": "python",
   "nbconvert_exporter": "python",
   "pygments_lexer": "ipython3",
   "version": "3.12.10"
  }
 },
 "nbformat": 4,
 "nbformat_minor": 5
}
