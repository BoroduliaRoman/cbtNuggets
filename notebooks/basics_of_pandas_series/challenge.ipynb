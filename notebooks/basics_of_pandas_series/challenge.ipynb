{
 "cells": [
  {
   "cell_type": "code",
   "execution_count": 1,
   "id": "899478bd",
   "metadata": {},
   "outputs": [],
   "source": [
    "import numpy as np\n",
    "import pandas as pd"
   ]
  },
  {
   "cell_type": "code",
   "execution_count": 6,
   "id": "a368fcc5",
   "metadata": {},
   "outputs": [
    {
     "data": {
      "text/plain": [
       "d    11\n",
       "c    12\n",
       "b    13\n",
       "a    14\n",
       "dtype: int64"
      ]
     },
     "execution_count": 6,
     "metadata": {},
     "output_type": "execute_result"
    }
   ],
   "source": [
    "s1 = pd.Series([1, 2, 3, 4], index = ['a', 'b', 'c', 'd'])\n",
    "s2 = pd.Series([1, 2, 3, 4], index = ['d', 'c', 'b', 'a'])\n",
    "s3 = pd.Series([1, 2, 3, 4], index = ['e', 'f', 'g', 'h'])\n",
    "\n",
    "sum(s1, s2)\n"
   ]
  }
 ],
 "metadata": {
  "kernelspec": {
   "display_name": ".venv",
   "language": "python",
   "name": "python3"
  },
  "language_info": {
   "codemirror_mode": {
    "name": "ipython",
    "version": 3
   },
   "file_extension": ".py",
   "mimetype": "text/x-python",
   "name": "python",
   "nbconvert_exporter": "python",
   "pygments_lexer": "ipython3",
   "version": "3.12.10"
  }
 },
 "nbformat": 4,
 "nbformat_minor": 5
}
