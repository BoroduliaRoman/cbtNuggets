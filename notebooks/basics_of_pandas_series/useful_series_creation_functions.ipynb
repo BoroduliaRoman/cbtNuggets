{
 "cells": [
  {
   "cell_type": "code",
   "execution_count": 1,
   "id": "4b174361",
   "metadata": {},
   "outputs": [],
   "source": [
    "import numpy as np\n",
    "import pandas as pd"
   ]
  },
  {
   "cell_type": "code",
   "execution_count": 3,
   "id": "eaa0d0a4",
   "metadata": {},
   "outputs": [
    {
     "data": {
      "text/plain": [
       "array([0, 1, 2, 3, 4, 5, 6, 7, 8, 9])"
      ]
     },
     "execution_count": 3,
     "metadata": {},
     "output_type": "execute_result"
    }
   ],
   "source": [
    "np.arange(0, 10)"
   ]
  },
  {
   "cell_type": "code",
   "execution_count": 10,
   "id": "fe299204",
   "metadata": {},
   "outputs": [
    {
     "data": {
      "text/plain": [
       "Timestamp('2024-08-07 00:00:00')"
      ]
     },
     "execution_count": 10,
     "metadata": {},
     "output_type": "execute_result"
    }
   ],
   "source": [
    "dates = pd.date_range(start = '2024-08-05', periods = 5, freq = 'D')\n",
    "dates_with_labels = pd.Series(dates, index = ['a', 'b', 'c', 'd', 'e'])\n",
    "dates[0]\n",
    "dates_with_labels['c']"
   ]
  },
  {
   "cell_type": "code",
   "execution_count": 12,
   "id": "8bfdb40f",
   "metadata": {},
   "outputs": [
    {
     "data": {
      "text/plain": [
       "DatetimeIndex(['2024-08-05', '2024-08-06', '2024-08-07', '2024-08-08',\n",
       "               '2024-08-09', '2024-08-10', '2024-08-11', '2024-08-12',\n",
       "               '2024-08-13', '2024-08-14',\n",
       "               ...\n",
       "               '2025-07-27', '2025-07-28', '2025-07-29', '2025-07-30',\n",
       "               '2025-07-31', '2025-08-01', '2025-08-02', '2025-08-03',\n",
       "               '2025-08-04', '2025-08-05'],\n",
       "              dtype='datetime64[ns]', length=366, freq='D')"
      ]
     },
     "execution_count": 12,
     "metadata": {},
     "output_type": "execute_result"
    }
   ],
   "source": [
    "dates1 = pd.date_range(start = '2024-08-05', end = '2025-08-05')\n",
    "dates1"
   ]
  },
  {
   "cell_type": "code",
   "execution_count": 13,
   "id": "6834d1c4",
   "metadata": {},
   "outputs": [
    {
     "data": {
      "text/plain": [
       "TimedeltaIndex([ '1 days',  '2 days',  '3 days',  '4 days',  '5 days',\n",
       "                 '6 days',  '7 days',  '8 days',  '9 days', '10 days'],\n",
       "               dtype='timedelta64[ns]', freq='D')"
      ]
     },
     "execution_count": 13,
     "metadata": {},
     "output_type": "execute_result"
    }
   ],
   "source": [
    "deltas = pd.timedelta_range(start = '1 days', periods = 10, freq = 'D')\n",
    "deltas"
   ]
  },
  {
   "cell_type": "code",
   "execution_count": 14,
   "id": "ce31c5b9",
   "metadata": {},
   "outputs": [
    {
     "data": {
      "text/plain": [
       "PeriodIndex(['2024-01', '2024-02', '2024-03', '2024-04', '2024-05', '2024-06',\n",
       "             '2024-07', '2024-08', '2024-09', '2024-10', '2024-11', '2024-12',\n",
       "             '2025-01', '2025-02', '2025-03', '2025-04', '2025-05', '2025-06',\n",
       "             '2025-07', '2025-08', '2025-09', '2025-10', '2025-11', '2025-12',\n",
       "             '2026-01', '2026-02', '2026-03', '2026-04', '2026-05', '2026-06',\n",
       "             '2026-07', '2026-08', '2026-09', '2026-10', '2026-11', '2026-12'],\n",
       "            dtype='period[M]')"
      ]
     },
     "execution_count": 14,
     "metadata": {},
     "output_type": "execute_result"
    }
   ],
   "source": [
    "pd.period_range(start = '2024-01', periods = 36, freq = 'M')"
   ]
  }
 ],
 "metadata": {
  "kernelspec": {
   "display_name": ".venv",
   "language": "python",
   "name": "python3"
  },
  "language_info": {
   "codemirror_mode": {
    "name": "ipython",
    "version": 3
   },
   "file_extension": ".py",
   "mimetype": "text/x-python",
   "name": "python",
   "nbconvert_exporter": "python",
   "pygments_lexer": "ipython3",
   "version": "3.12.10"
  }
 },
 "nbformat": 4,
 "nbformat_minor": 5
}
