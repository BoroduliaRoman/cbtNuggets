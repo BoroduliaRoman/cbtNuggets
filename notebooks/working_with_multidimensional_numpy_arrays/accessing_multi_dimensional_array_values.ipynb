{
 "cells": [
  {
   "cell_type": "code",
   "execution_count": 1,
   "id": "148d3860",
   "metadata": {},
   "outputs": [],
   "source": [
    "import numpy as np"
   ]
  },
  {
   "cell_type": "code",
   "execution_count": 4,
   "id": "2a8e788a",
   "metadata": {},
   "outputs": [
    {
     "name": "stdout",
     "output_type": "stream",
     "text": [
      "1\n",
      "5\n",
      "[1 2 3]\n"
     ]
    }
   ],
   "source": [
    "array_1d = np.array([1, 2, 3, 4, 5])\n",
    "print(array_1d[0])\n",
    "print(array_1d[-1])\n",
    "print(array_1d[:3])"
   ]
  },
  {
   "cell_type": "code",
   "execution_count": 20,
   "id": "bc6ef05f",
   "metadata": {},
   "outputs": [
    {
     "name": "stdout",
     "output_type": "stream",
     "text": [
      "[[[ 1  2  3]\n",
      "  [ 4  5  6]\n",
      "  [ 7  8  9]]\n",
      "\n",
      " [[10 11 12]\n",
      "  [13 14 15]\n",
      "  [16 17 18]]\n",
      "\n",
      " [[19 20 21]\n",
      "  [22 23 24]\n",
      "  [25 26 27]]]\n",
      "25\n"
     ]
    }
   ],
   "source": [
    "list_2d = [[1, 2, 3], [4, 5, 6], [7, 8, 9]]\n",
    "list_3d = [list_2d[:], [[x + 9 for x in row] for row in list_2d], [[x + 18 for x in row] for row in list_2d]]\n",
    "\n",
    "array_2d = np.array(list_2d)\n",
    "array_3d = np.array(list_3d)\n",
    "\n",
    "# print(array_2d[0, 0])\n",
    "\n",
    "print(array_3d)\n",
    "print(array_3d[-1, -1, 0])"
   ]
  }
 ],
 "metadata": {
  "kernelspec": {
   "display_name": ".venv",
   "language": "python",
   "name": "python3"
  },
  "language_info": {
   "codemirror_mode": {
    "name": "ipython",
    "version": 3
   },
   "file_extension": ".py",
   "mimetype": "text/x-python",
   "name": "python",
   "nbconvert_exporter": "python",
   "pygments_lexer": "ipython3",
   "version": "3.12.10"
  }
 },
 "nbformat": 4,
 "nbformat_minor": 5
}
