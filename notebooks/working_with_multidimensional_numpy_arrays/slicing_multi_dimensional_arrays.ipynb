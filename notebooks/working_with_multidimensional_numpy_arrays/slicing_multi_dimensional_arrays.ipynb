{
 "cells": [
  {
   "cell_type": "code",
   "execution_count": 1,
   "id": "4c727c42",
   "metadata": {},
   "outputs": [],
   "source": [
    "import numpy as np"
   ]
  },
  {
   "cell_type": "code",
   "execution_count": 8,
   "id": "6a41ba96",
   "metadata": {},
   "outputs": [
    {
     "name": "stdout",
     "output_type": "stream",
     "text": [
      "[[[ 1  2  3]\n",
      "  [ 4  5  6]\n",
      "  [ 7  8  9]]\n",
      "\n",
      " [[10 11 12]\n",
      "  [13 14 15]\n",
      "  [16 17 18]]\n",
      "\n",
      " [[19 20 21]\n",
      "  [22 23 24]\n",
      "  [25 26 27]]]\n",
      "------------------------\n",
      "[[[99 99  3]\n",
      "  [99 99  6]\n",
      "  [ 7  8  9]]\n",
      "\n",
      " [[99 99 12]\n",
      "  [99 99 15]\n",
      "  [16 17 18]]\n",
      "\n",
      " [[19 20 21]\n",
      "  [22 23 24]\n",
      "  [25 26 27]]]\n"
     ]
    }
   ],
   "source": [
    "list_2d = [[1, 2, 3], [4, 5, 6], [7, 8, 9]]\n",
    "list_3d = [list_2d[:], [[x + 9 for x in row] for row in list_2d], [[x + 18 for x in row] for row in list_2d]]\n",
    "\n",
    "array_2d = np.array(list_2d)\n",
    "array_3d = np.array(list_3d)\n",
    "\n",
    "print(array_3d)\n",
    "print('------------------------')\n",
    "array_3d[:2, :2, :2] = 99\n",
    "print(array_3d)"
   ]
  }
 ],
 "metadata": {
  "kernelspec": {
   "display_name": ".venv",
   "language": "python",
   "name": "python3"
  },
  "language_info": {
   "codemirror_mode": {
    "name": "ipython",
    "version": 3
   },
   "file_extension": ".py",
   "mimetype": "text/x-python",
   "name": "python",
   "nbconvert_exporter": "python",
   "pygments_lexer": "ipython3",
   "version": "3.12.10"
  }
 },
 "nbformat": 4,
 "nbformat_minor": 5
}
