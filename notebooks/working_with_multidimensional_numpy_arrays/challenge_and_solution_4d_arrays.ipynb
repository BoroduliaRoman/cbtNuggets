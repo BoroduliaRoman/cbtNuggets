{
 "cells": [
  {
   "cell_type": "code",
   "execution_count": 2,
   "id": "eca1beaa",
   "metadata": {},
   "outputs": [
    {
     "name": "stdout",
     "output_type": "stream",
     "text": [
      "[[[[ 1  2  3]\n",
      "   [ 4  5  6]\n",
      "   [ 7  8  9]]\n",
      "\n",
      "  [[10 11 12]\n",
      "   [13 14 15]\n",
      "   [16 17 18]]\n",
      "\n",
      "  [[19 20 21]\n",
      "   [22 23 24]\n",
      "   [25 26 27]]]\n",
      "\n",
      "\n",
      " [[[28 29 30]\n",
      "   [31 32 33]\n",
      "   [34 35 36]]\n",
      "\n",
      "  [[37 38 39]\n",
      "   [40 41 42]\n",
      "   [43 44 45]]\n",
      "\n",
      "  [[46 47 48]\n",
      "   [49 50 51]\n",
      "   [52 53 54]]]\n",
      "\n",
      "\n",
      " [[[55 56 57]\n",
      "   [58 59 60]\n",
      "   [61 62 63]]\n",
      "\n",
      "  [[64 65 66]\n",
      "   [67 68 69]\n",
      "   [70 71 72]]\n",
      "\n",
      "  [[73 74 75]\n",
      "   [76 77 78]\n",
      "   [79 80 81]]]]\n"
     ]
    }
   ],
   "source": [
    "import numpy as np\n",
    "\n",
    "list_3d = [\n",
    "    [\n",
    "        [1, 2, 3],\n",
    "        [4, 5, 6],\n",
    "        [7, 8, 9],\n",
    "    ],\n",
    "    [\n",
    "        [10, 11, 12],\n",
    "        [13, 14, 15],\n",
    "        [16, 17, 18],\n",
    "    ],\n",
    "    [\n",
    "        [19, 20, 21],\n",
    "        [22, 23, 24],\n",
    "        [25, 26, 27],\n",
    "    ]\n",
    "]\n",
    "\n",
    "array_3d = np.array(list_3d)\n",
    "array_4d = np.array([array_3d, array_3d + 27, array_3d + 54])\n",
    "print(array_4d)"
   ]
  },
  {
   "cell_type": "code",
   "execution_count": 6,
   "id": "0c2c137d",
   "metadata": {},
   "outputs": [
    {
     "name": "stdout",
     "output_type": "stream",
     "text": [
      "15\n",
      "29\n",
      "[40 41 42]\n",
      "[[[55 56 57]\n",
      "  [58 59 60]]\n",
      "\n",
      " [[64 65 66]\n",
      "  [67 68 69]]]\n"
     ]
    }
   ],
   "source": [
    "print(array_4d[0, 1, 1, -1])\n",
    "print(array_4d[1, 0, 0, 1])\n",
    "print(array_4d[1, 1, 1])\n",
    "print(array_4d[-1, :2, :2])"
   ]
  }
 ],
 "metadata": {
  "kernelspec": {
   "display_name": ".venv",
   "language": "python",
   "name": "python3"
  },
  "language_info": {
   "codemirror_mode": {
    "name": "ipython",
    "version": 3
   },
   "file_extension": ".py",
   "mimetype": "text/x-python",
   "name": "python",
   "nbconvert_exporter": "python",
   "pygments_lexer": "ipython3",
   "version": "3.12.10"
  }
 },
 "nbformat": 4,
 "nbformat_minor": 5
}
