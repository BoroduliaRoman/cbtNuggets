{
 "cells": [
  {
   "cell_type": "code",
   "execution_count": 1,
   "id": "f42d2b71",
   "metadata": {},
   "outputs": [],
   "source": [
    "import numpy as np"
   ]
  },
  {
   "cell_type": "code",
   "execution_count": 20,
   "id": "94a04495",
   "metadata": {},
   "outputs": [
    {
     "name": "stdout",
     "output_type": "stream",
     "text": [
      "[[1, 2, 3], [4, 5, 6], [7, 8, 9]]\n"
     ]
    }
   ],
   "source": [
    "list_2d = [[1, 2, 3], [4, 5, 6], [7, 8, 9]]\n",
    "list_3d = [list_2d[:], list_2d[:], list_2d[:]]\n",
    "# list_3d[0][1][0] = 100\n",
    "\n",
    "print(list_2d)"
   ]
  },
  {
   "cell_type": "code",
   "execution_count": 21,
   "id": "de61c26c",
   "metadata": {},
   "outputs": [
    {
     "name": "stdout",
     "output_type": "stream",
     "text": [
      "[[[  1   2   3]\n",
      "  [  4   5   6]\n",
      "  [  7   8   9]]\n",
      "\n",
      " [[  1   2   3]\n",
      "  [  4 100   6]\n",
      "  [  7   8   9]]\n",
      "\n",
      " [[  1   2   3]\n",
      "  [  4   5   6]\n",
      "  [  7   8   9]]]\n"
     ]
    }
   ],
   "source": [
    "array_2d = np.array(list_2d)\n",
    "array_3d = np.array(list_3d)\n",
    "array_3d[1, 1, 1] = 100\n",
    "\n",
    "# print(array_2d)\n",
    "print(array_3d)"
   ]
  }
 ],
 "metadata": {
  "kernelspec": {
   "display_name": ".venv",
   "language": "python",
   "name": "python3"
  },
  "language_info": {
   "codemirror_mode": {
    "name": "ipython",
    "version": 3
   },
   "file_extension": ".py",
   "mimetype": "text/x-python",
   "name": "python",
   "nbconvert_exporter": "python",
   "pygments_lexer": "ipython3",
   "version": "3.12.10"
  }
 },
 "nbformat": 4,
 "nbformat_minor": 5
}
