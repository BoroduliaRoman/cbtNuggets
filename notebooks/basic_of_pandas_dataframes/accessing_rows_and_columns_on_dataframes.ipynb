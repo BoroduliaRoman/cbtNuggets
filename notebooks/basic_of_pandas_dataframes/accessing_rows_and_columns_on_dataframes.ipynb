{
 "cells": [
  {
   "cell_type": "code",
   "execution_count": 1,
   "id": "b1283ab7",
   "metadata": {},
   "outputs": [],
   "source": [
    "import numpy as np\n",
    "import pandas as pd"
   ]
  },
  {
   "cell_type": "code",
   "execution_count": 3,
   "id": "94121265",
   "metadata": {},
   "outputs": [],
   "source": [
    "index = np.array(['a', 'b', 'c'])\n",
    "\n",
    "user_data_s = {\n",
    "    'id': pd.Series([123, 234, 345], index = index),\n",
    "    'name': pd.Series(['Bob', 'Sue', 'Deam'], index = index),\n",
    "    'age': pd.Series([30, 40, 50], index = index) \n",
    "}\n",
    "\n",
    "user_data_df = pd.DataFrame(user_data_s)"
   ]
  },
  {
   "cell_type": "code",
   "execution_count": 9,
   "id": "3d5617cd",
   "metadata": {},
   "outputs": [],
   "source": [
    "user_data_df['id']\n",
    "na = user_data_df[['name', 'age']]\n",
    "\n",
    "# na['name'] = 'Ham'"
   ]
  },
  {
   "cell_type": "code",
   "execution_count": 12,
   "id": "b692d46b",
   "metadata": {},
   "outputs": [
    {
     "data": {
      "text/plain": [
       "name    Bob\n",
       "age      30\n",
       "Name: a, dtype: object"
      ]
     },
     "execution_count": 12,
     "metadata": {},
     "output_type": "execute_result"
    }
   ],
   "source": [
    "a = user_data_df[['name', 'age']]\n",
    "a.loc['a']"
   ]
  },
  {
   "cell_type": "code",
   "execution_count": 15,
   "id": "ac03d735",
   "metadata": {},
   "outputs": [
    {
     "data": {
      "text/html": [
       "<div>\n",
       "<style scoped>\n",
       "    .dataframe tbody tr th:only-of-type {\n",
       "        vertical-align: middle;\n",
       "    }\n",
       "\n",
       "    .dataframe tbody tr th {\n",
       "        vertical-align: top;\n",
       "    }\n",
       "\n",
       "    .dataframe thead th {\n",
       "        text-align: right;\n",
       "    }\n",
       "</style>\n",
       "<table border=\"1\" class=\"dataframe\">\n",
       "  <thead>\n",
       "    <tr style=\"text-align: right;\">\n",
       "      <th></th>\n",
       "      <th>id</th>\n",
       "      <th>name</th>\n",
       "      <th>age</th>\n",
       "    </tr>\n",
       "  </thead>\n",
       "  <tbody>\n",
       "    <tr>\n",
       "      <th>a</th>\n",
       "      <td>123</td>\n",
       "      <td>Bob</td>\n",
       "      <td>30</td>\n",
       "    </tr>\n",
       "    <tr>\n",
       "      <th>b</th>\n",
       "      <td>234</td>\n",
       "      <td>Sue</td>\n",
       "      <td>40</td>\n",
       "    </tr>\n",
       "  </tbody>\n",
       "</table>\n",
       "</div>"
      ],
      "text/plain": [
       "    id name  age\n",
       "a  123  Bob   30\n",
       "b  234  Sue   40"
      ]
     },
     "execution_count": 15,
     "metadata": {},
     "output_type": "execute_result"
    }
   ],
   "source": [
    "a.iloc[0]\n",
    "user_data_df.iloc[0:2]"
   ]
  }
 ],
 "metadata": {
  "kernelspec": {
   "display_name": ".venv",
   "language": "python",
   "name": "python3"
  },
  "language_info": {
   "codemirror_mode": {
    "name": "ipython",
    "version": 3
   },
   "file_extension": ".py",
   "mimetype": "text/x-python",
   "name": "python",
   "nbconvert_exporter": "python",
   "pygments_lexer": "ipython3",
   "version": "3.12.10"
  }
 },
 "nbformat": 4,
 "nbformat_minor": 5
}
