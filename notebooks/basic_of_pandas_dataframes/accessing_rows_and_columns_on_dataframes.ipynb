{
 "cells": [
  {
   "cell_type": "code",
   "execution_count": 1,
   "id": "b1283ab7",
   "metadata": {},
   "outputs": [],
   "source": [
    "import numpy as np\n",
    "import pandas as pd"
   ]
  },
  {
   "cell_type": "code",
   "execution_count": 3,
   "id": "94121265",
   "metadata": {},
   "outputs": [],
   "source": [
    "index = np.array(['a', 'b', 'c'])\n",
    "\n",
    "user_data_s = {\n",
    "    'id': pd.Series([123, 234, 345], index = index),\n",
    "    'name': pd.Series(['Bob', 'Sue', 'Deam'], index = index),\n",
    "    'age': pd.Series([30, 40, 50], index = index) \n",
    "}\n",
    "\n",
    "user_data_df = pd.DataFrame(user_data_s)"
   ]
  },
  {
   "cell_type": "code",
   "execution_count": 4,
   "id": "3d5617cd",
   "metadata": {},
   "outputs": [
    {
     "data": {
      "text/plain": [
       "a    123\n",
       "b    234\n",
       "c    345\n",
       "Name: id, dtype: int64"
      ]
     },
     "execution_count": 4,
     "metadata": {},
     "output_type": "execute_result"
    }
   ],
   "source": [
    "user_data_df['id']"
   ]
  }
 ],
 "metadata": {
  "kernelspec": {
   "display_name": ".venv",
   "language": "python",
   "name": "python3"
  },
  "language_info": {
   "codemirror_mode": {
    "name": "ipython",
    "version": 3
   },
   "file_extension": ".py",
   "mimetype": "text/x-python",
   "name": "python",
   "nbconvert_exporter": "python",
   "pygments_lexer": "ipython3",
   "version": "3.12.10"
  }
 },
 "nbformat": 4,
 "nbformat_minor": 5
}
