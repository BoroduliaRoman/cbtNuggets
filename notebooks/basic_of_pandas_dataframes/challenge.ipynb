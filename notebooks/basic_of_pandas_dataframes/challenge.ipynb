{
 "cells": [
  {
   "cell_type": "code",
   "execution_count": 1,
   "id": "c9746754",
   "metadata": {},
   "outputs": [],
   "source": [
    "import numpy as np\n",
    "import pandas as pd"
   ]
  },
  {
   "cell_type": "code",
   "execution_count": 9,
   "id": "1ef6fd23",
   "metadata": {},
   "outputs": [],
   "source": [
    "index = np.array([0, 1, 2])\n",
    "list_ecom = {\n",
    "    'name': pd.Series(['Bob', 'Amir', 'Roman'], index = index),\n",
    "    'price': pd.Series([10, 15, 34], index = index)\n",
    "}\n",
    "\n",
    "df_ecom = pd.DataFrame(list_ecom)"
   ]
  },
  {
   "cell_type": "code",
   "execution_count": 22,
   "id": "8d21f725",
   "metadata": {},
   "outputs": [
    {
     "data": {
      "text/html": [
       "<div>\n",
       "<style scoped>\n",
       "    .dataframe tbody tr th:only-of-type {\n",
       "        vertical-align: middle;\n",
       "    }\n",
       "\n",
       "    .dataframe tbody tr th {\n",
       "        vertical-align: top;\n",
       "    }\n",
       "\n",
       "    .dataframe thead th {\n",
       "        text-align: right;\n",
       "    }\n",
       "</style>\n",
       "<table border=\"1\" class=\"dataframe\">\n",
       "  <thead>\n",
       "    <tr style=\"text-align: right;\">\n",
       "      <th></th>\n",
       "      <th>name</th>\n",
       "      <th>price</th>\n",
       "      <th>sale_date</th>\n",
       "    </tr>\n",
       "  </thead>\n",
       "  <tbody>\n",
       "    <tr>\n",
       "      <th>1</th>\n",
       "      <td>Amir</td>\n",
       "      <td>15</td>\n",
       "      <td>2025-08-25</td>\n",
       "    </tr>\n",
       "    <tr>\n",
       "      <th>0</th>\n",
       "      <td>Bob</td>\n",
       "      <td>10</td>\n",
       "      <td>2025-08-24</td>\n",
       "    </tr>\n",
       "    <tr>\n",
       "      <th>2</th>\n",
       "      <td>Roman</td>\n",
       "      <td>34</td>\n",
       "      <td>2025-08-26</td>\n",
       "    </tr>\n",
       "  </tbody>\n",
       "</table>\n",
       "</div>"
      ],
      "text/plain": [
       "    name  price  sale_date\n",
       "1   Amir     15 2025-08-25\n",
       "0    Bob     10 2025-08-24\n",
       "2  Roman     34 2025-08-26"
      ]
     },
     "execution_count": 22,
     "metadata": {},
     "output_type": "execute_result"
    }
   ],
   "source": [
    "df_ecom[\"id\"] = pd.Series([243, 18, 99], index = index)\n",
    "id_del = df_ecom.pop(\"id\")\n",
    "# set_index?\n",
    "df_ecom[\"sale_date\"] = pd.Series(pd.date_range(start='2025-08-24', periods = 3, freq = 'D'), index = index)\n",
    "\n",
    "df_ecom.sort_values('name')"
   ]
  },
  {
   "cell_type": "code",
   "execution_count": null,
   "id": "9923cfa6",
   "metadata": {},
   "outputs": [],
   "source": []
  }
 ],
 "metadata": {
  "kernelspec": {
   "display_name": ".venv",
   "language": "python",
   "name": "python3"
  },
  "language_info": {
   "codemirror_mode": {
    "name": "ipython",
    "version": 3
   },
   "file_extension": ".py",
   "mimetype": "text/x-python",
   "name": "python",
   "nbconvert_exporter": "python",
   "pygments_lexer": "ipython3",
   "version": "3.12.10"
  }
 },
 "nbformat": 4,
 "nbformat_minor": 5
}
