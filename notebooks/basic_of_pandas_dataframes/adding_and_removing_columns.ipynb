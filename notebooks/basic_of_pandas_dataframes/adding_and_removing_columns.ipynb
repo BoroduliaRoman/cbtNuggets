{
 "cells": [
  {
   "cell_type": "code",
   "execution_count": 1,
   "id": "9d1f19c1",
   "metadata": {},
   "outputs": [],
   "source": [
    "import pandas as pd\n",
    "import numpy as np"
   ]
  },
  {
   "cell_type": "code",
   "execution_count": 7,
   "id": "99186d0a",
   "metadata": {},
   "outputs": [],
   "source": [
    "index = np.array(['a', 'b', 'c'])\n",
    "\n",
    "user_data_s = {\n",
    "    'id': pd.Series([123, 234, 345], index = index),\n",
    "    'name': pd.Series(['Bob', 'Sue', 'Deam'], index = index),\n",
    "    'age': pd.Series([30, 40, 50], index = index) \n",
    "}\n",
    "\n",
    "user_data_df = pd.DataFrame(user_data_s)"
   ]
  },
  {
   "cell_type": "code",
   "execution_count": 16,
   "id": "f332908c",
   "metadata": {},
   "outputs": [
    {
     "data": {
      "text/html": [
       "<div>\n",
       "<style scoped>\n",
       "    .dataframe tbody tr th:only-of-type {\n",
       "        vertical-align: middle;\n",
       "    }\n",
       "\n",
       "    .dataframe tbody tr th {\n",
       "        vertical-align: top;\n",
       "    }\n",
       "\n",
       "    .dataframe thead th {\n",
       "        text-align: right;\n",
       "    }\n",
       "</style>\n",
       "<table border=\"1\" class=\"dataframe\">\n",
       "  <thead>\n",
       "    <tr style=\"text-align: right;\">\n",
       "      <th></th>\n",
       "      <th>id</th>\n",
       "      <th>name</th>\n",
       "      <th>age</th>\n",
       "      <th>email</th>\n",
       "    </tr>\n",
       "  </thead>\n",
       "  <tbody>\n",
       "    <tr>\n",
       "      <th>a</th>\n",
       "      <td>123</td>\n",
       "      <td>Dan</td>\n",
       "      <td>30</td>\n",
       "      <td>Bob@gmail.com</td>\n",
       "    </tr>\n",
       "    <tr>\n",
       "      <th>b</th>\n",
       "      <td>234</td>\n",
       "      <td>Sue</td>\n",
       "      <td>40</td>\n",
       "      <td>Sue@gmail.com</td>\n",
       "    </tr>\n",
       "    <tr>\n",
       "      <th>c</th>\n",
       "      <td>345</td>\n",
       "      <td>Deam</td>\n",
       "      <td>50</td>\n",
       "      <td></td>\n",
       "    </tr>\n",
       "  </tbody>\n",
       "</table>\n",
       "</div>"
      ],
      "text/plain": [
       "    id  name  age          email\n",
       "a  123   Dan   30  Bob@gmail.com\n",
       "b  234   Sue   40  Sue@gmail.com\n",
       "c  345  Deam   50               "
      ]
     },
     "execution_count": 16,
     "metadata": {},
     "output_type": "execute_result"
    }
   ],
   "source": [
    "a = user_data_df.iloc[0:2]\n",
    "user_data_df['email'] = pd.Series(['Bob@gmail.com', 'Sue@gmail.com', ''], index = index)\n",
    "user_data_df.at['a', 'name'] = 'Dan'\n",
    "user_data_df.iat[0, 1] = 'Dan'\n",
    "user_data_df"
   ]
  },
  {
   "cell_type": "code",
   "execution_count": 21,
   "id": "8545a5bd",
   "metadata": {},
   "outputs": [
    {
     "data": {
      "text/html": [
       "<div>\n",
       "<style scoped>\n",
       "    .dataframe tbody tr th:only-of-type {\n",
       "        vertical-align: middle;\n",
       "    }\n",
       "\n",
       "    .dataframe tbody tr th {\n",
       "        vertical-align: top;\n",
       "    }\n",
       "\n",
       "    .dataframe thead th {\n",
       "        text-align: right;\n",
       "    }\n",
       "</style>\n",
       "<table border=\"1\" class=\"dataframe\">\n",
       "  <thead>\n",
       "    <tr style=\"text-align: right;\">\n",
       "      <th></th>\n",
       "      <th>id</th>\n",
       "      <th>name</th>\n",
       "      <th>age</th>\n",
       "      <th>email</th>\n",
       "      <th>has_email</th>\n",
       "    </tr>\n",
       "  </thead>\n",
       "  <tbody>\n",
       "    <tr>\n",
       "      <th>a</th>\n",
       "      <td>123</td>\n",
       "      <td>Dan</td>\n",
       "      <td>30</td>\n",
       "      <td>Bob@gmail.com</td>\n",
       "      <td>True</td>\n",
       "    </tr>\n",
       "    <tr>\n",
       "      <th>b</th>\n",
       "      <td>234</td>\n",
       "      <td>Sue</td>\n",
       "      <td>40</td>\n",
       "      <td>Sue@gmail.com</td>\n",
       "      <td>True</td>\n",
       "    </tr>\n",
       "    <tr>\n",
       "      <th>c</th>\n",
       "      <td>345</td>\n",
       "      <td>Deam</td>\n",
       "      <td>50</td>\n",
       "      <td></td>\n",
       "      <td>False</td>\n",
       "    </tr>\n",
       "  </tbody>\n",
       "</table>\n",
       "</div>"
      ],
      "text/plain": [
       "    id  name  age          email  has_email\n",
       "a  123   Dan   30  Bob@gmail.com       True\n",
       "b  234   Sue   40  Sue@gmail.com       True\n",
       "c  345  Deam   50                     False"
      ]
     },
     "execution_count": 21,
     "metadata": {},
     "output_type": "execute_result"
    }
   ],
   "source": [
    "user_data_df['has_email'] = pd.Series(user_data_df['email'] != '', index = index)\n",
    "user_data_df"
   ]
  },
  {
   "cell_type": "code",
   "execution_count": 23,
   "id": "ba06620b",
   "metadata": {},
   "outputs": [
    {
     "data": {
      "text/html": [
       "<div>\n",
       "<style scoped>\n",
       "    .dataframe tbody tr th:only-of-type {\n",
       "        vertical-align: middle;\n",
       "    }\n",
       "\n",
       "    .dataframe tbody tr th {\n",
       "        vertical-align: top;\n",
       "    }\n",
       "\n",
       "    .dataframe thead th {\n",
       "        text-align: right;\n",
       "    }\n",
       "</style>\n",
       "<table border=\"1\" class=\"dataframe\">\n",
       "  <thead>\n",
       "    <tr style=\"text-align: right;\">\n",
       "      <th></th>\n",
       "      <th>name</th>\n",
       "      <th>age</th>\n",
       "      <th>email</th>\n",
       "      <th>has_email</th>\n",
       "    </tr>\n",
       "  </thead>\n",
       "  <tbody>\n",
       "    <tr>\n",
       "      <th>a</th>\n",
       "      <td>Dan</td>\n",
       "      <td>30</td>\n",
       "      <td>Bob@gmail.com</td>\n",
       "      <td>True</td>\n",
       "    </tr>\n",
       "    <tr>\n",
       "      <th>b</th>\n",
       "      <td>Sue</td>\n",
       "      <td>40</td>\n",
       "      <td>Sue@gmail.com</td>\n",
       "      <td>True</td>\n",
       "    </tr>\n",
       "    <tr>\n",
       "      <th>c</th>\n",
       "      <td>Deam</td>\n",
       "      <td>50</td>\n",
       "      <td></td>\n",
       "      <td>False</td>\n",
       "    </tr>\n",
       "  </tbody>\n",
       "</table>\n",
       "</div>"
      ],
      "text/plain": [
       "   name  age          email  has_email\n",
       "a   Dan   30  Bob@gmail.com       True\n",
       "b   Sue   40  Sue@gmail.com       True\n",
       "c  Deam   50                     False"
      ]
     },
     "execution_count": 23,
     "metadata": {},
     "output_type": "execute_result"
    }
   ],
   "source": [
    "user_data_df.pop('id')\n",
    "user_data_df"
   ]
  }
 ],
 "metadata": {
  "kernelspec": {
   "display_name": ".venv",
   "language": "python",
   "name": "python3"
  },
  "language_info": {
   "codemirror_mode": {
    "name": "ipython",
    "version": 3
   },
   "file_extension": ".py",
   "mimetype": "text/x-python",
   "name": "python",
   "nbconvert_exporter": "python",
   "pygments_lexer": "ipython3",
   "version": "3.12.10"
  }
 },
 "nbformat": 4,
 "nbformat_minor": 5
}
