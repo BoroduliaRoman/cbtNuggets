{
 "cells": [
  {
   "cell_type": "code",
   "execution_count": 1,
   "id": "15c76778",
   "metadata": {},
   "outputs": [],
   "source": [
    "import numpy as np"
   ]
  },
  {
   "cell_type": "code",
   "execution_count": null,
   "id": "e5c4ab23",
   "metadata": {},
   "outputs": [
    {
     "name": "stdout",
     "output_type": "stream",
     "text": [
      "Bob 40 True\n",
      "Geraldo 30 False\n",
      "Jim 40 False\n",
      "Shaun 30 True\n"
     ]
    }
   ],
   "source": [
    "names = np.array(['Shaun', 'Geraldo', 'Bob', 'Jim'])\n",
    "ages = np.array([30, 30, 40, 40])\n",
    "drinks_coffee = np.array([True, False, True, False])\n",
    "\n",
    "all_arr = np.concat((names, ages, drinks_coffee))\n",
    "extended = np.resize(all_arr, (3, 4))\n",
    "\n",
    "print(extended[0,2], extended[1, 2], extended[2, 2])\n",
    "print(extended[0,1], extended[1, 1], extended[2, 1])\n",
    "print(extended[0,3], extended[1, 3], extended[2, 3])\n",
    "print(extended[0,0], extended[1, 0], extended[2, 0])\n",
    "\n",
    "\n",
    "# sorted = np.lexsort((names, ages, drinks_coffee))\n",
    "# print(sorted)"
   ]
  }
 ],
 "metadata": {
  "kernelspec": {
   "display_name": ".venv",
   "language": "python",
   "name": "python3"
  },
  "language_info": {
   "codemirror_mode": {
    "name": "ipython",
    "version": 3
   },
   "file_extension": ".py",
   "mimetype": "text/x-python",
   "name": "python",
   "nbconvert_exporter": "python",
   "pygments_lexer": "ipython3",
   "version": "3.12.10"
  }
 },
 "nbformat": 4,
 "nbformat_minor": 5
}
