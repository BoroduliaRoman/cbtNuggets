{
 "cells": [
  {
   "cell_type": "code",
   "execution_count": 1,
   "id": "ede97b6e",
   "metadata": {},
   "outputs": [],
   "source": [
    "import numpy as np"
   ]
  },
  {
   "cell_type": "code",
   "execution_count": 2,
   "id": "c408daad",
   "metadata": {},
   "outputs": [
    {
     "name": "stdout",
     "output_type": "stream",
     "text": [
      "Geraldo - 30 - False\n",
      "Shaun - 30 - True\n",
      "Bob - 40 - True\n",
      "Jim - 40 - False\n"
     ]
    }
   ],
   "source": [
    "names = np.array(['Shaun', 'Geraldo', 'Bob', 'Jim'])\n",
    "ages = np.array([30, 30, 40, 40])\n",
    "drinks_coffee = np.array([True, False, True, False])\n",
    "\n",
    "sorted_indicies = np.lexsort((names, ages))\n",
    "\n",
    "for name, age, coffee in zip(names[sorted_indicies], ages[sorted_indicies], drinks_coffee[sorted_indicies]):\n",
    "    print(f'{name} - {age} - {coffee}')"
   ]
  }
 ],
 "metadata": {
  "kernelspec": {
   "display_name": ".venv",
   "language": "python",
   "name": "python3"
  },
  "language_info": {
   "codemirror_mode": {
    "name": "ipython",
    "version": 3
   },
   "file_extension": ".py",
   "mimetype": "text/x-python",
   "name": "python",
   "nbconvert_exporter": "python",
   "pygments_lexer": "ipython3",
   "version": "3.12.10"
  }
 },
 "nbformat": 4,
 "nbformat_minor": 5
}
