{
 "cells": [
  {
   "cell_type": "code",
   "execution_count": 1,
   "id": "8ca44635",
   "metadata": {},
   "outputs": [],
   "source": [
    "import numpy as np"
   ]
  },
  {
   "cell_type": "code",
   "execution_count": 21,
   "id": "56e41021",
   "metadata": {},
   "outputs": [],
   "source": [
    "arr_1d = np.array([67, 23, 10, -100, 234, 5])\n",
    "str_arr_1d = np.array(['cherry', 'banana', 'date', 'apple', 'eggplant'])\n",
    "# arr_1d.sort() # Sorted Original Data\n",
    "# str_arr_1d.sort()\n",
    "\n",
    "arr_1d_sorted = np.sort(arr_1d)\n",
    "sorted_str_arr_1d = np.sort(str_arr_1d)\n",
    "\n",
    "sorted_indecies = np.argsort(arr_1d)"
   ]
  },
  {
   "cell_type": "code",
   "execution_count": 23,
   "id": "a63f0059",
   "metadata": {},
   "outputs": [
    {
     "name": "stdout",
     "output_type": "stream",
     "text": [
      "[  67   23   10 -100  234    5]\n",
      "[-100    5   10   23   67  234]\n",
      "['cherry' 'banana' 'date' 'apple' 'eggplant']\n",
      "['apple' 'banana' 'cherry' 'date' 'eggplant']\n",
      "[3 5 2 1 0 4]\n",
      "-100\n",
      "5\n",
      "10\n",
      "23\n",
      "67\n",
      "234\n"
     ]
    }
   ],
   "source": [
    "print(arr_1d)\n",
    "print(arr_1d_sorted)\n",
    "\n",
    "print(str_arr_1d)\n",
    "print(sorted_str_arr_1d)\n",
    "\n",
    "print(sorted_indecies)\n",
    "\n",
    "for i in sorted_indecies:\n",
    "    print(arr_1d[i])"
   ]
  },
  {
   "cell_type": "code",
   "execution_count": null,
   "id": "974d8425",
   "metadata": {},
   "outputs": [],
   "source": []
  }
 ],
 "metadata": {
  "kernelspec": {
   "display_name": ".venv",
   "language": "python",
   "name": "python3"
  },
  "language_info": {
   "codemirror_mode": {
    "name": "ipython",
    "version": 3
   },
   "file_extension": ".py",
   "mimetype": "text/x-python",
   "name": "python",
   "nbconvert_exporter": "python",
   "pygments_lexer": "ipython3",
   "version": "3.12.10"
  }
 },
 "nbformat": 4,
 "nbformat_minor": 5
}
