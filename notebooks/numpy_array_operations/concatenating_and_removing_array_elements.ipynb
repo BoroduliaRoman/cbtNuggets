{
 "cells": [
  {
   "cell_type": "code",
   "execution_count": 1,
   "id": "72328c18",
   "metadata": {},
   "outputs": [],
   "source": [
    "import numpy as np"
   ]
  },
  {
   "cell_type": "code",
   "execution_count": 3,
   "id": "c80d7c25",
   "metadata": {},
   "outputs": [],
   "source": [
    "arr1 = np.array([67, 23, 10, -100, 234, 5])\n",
    "arr2 = np.array([1, 2, 3, 4, 5])\n",
    "\n",
    "both = np.concat((arr1, arr2))"
   ]
  },
  {
   "cell_type": "code",
   "execution_count": 4,
   "id": "d40ecd6b",
   "metadata": {},
   "outputs": [
    {
     "name": "stdout",
     "output_type": "stream",
     "text": [
      "[  67   23   10 -100  234    5    1    2    3    4    5]\n"
     ]
    }
   ],
   "source": [
    "print(both)"
   ]
  }
 ],
 "metadata": {
  "kernelspec": {
   "display_name": ".venv",
   "language": "python",
   "name": "python3"
  },
  "language_info": {
   "codemirror_mode": {
    "name": "ipython",
    "version": 3
   },
   "file_extension": ".py",
   "mimetype": "text/x-python",
   "name": "python",
   "nbconvert_exporter": "python",
   "pygments_lexer": "ipython3",
   "version": "3.12.10"
  }
 },
 "nbformat": 4,
 "nbformat_minor": 5
}
