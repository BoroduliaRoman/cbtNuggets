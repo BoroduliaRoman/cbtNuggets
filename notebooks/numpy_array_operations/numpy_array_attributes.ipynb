{
 "cells": [
  {
   "cell_type": "code",
   "execution_count": 1,
   "id": "274ab497",
   "metadata": {},
   "outputs": [],
   "source": [
    "import numpy as np"
   ]
  },
  {
   "cell_type": "code",
   "execution_count": 7,
   "id": "1d769191",
   "metadata": {},
   "outputs": [],
   "source": [
    "numbers_1d = np.array([1, 2, 3, 4, 5, 6])\n",
    "numbers_2d = np.resize(numbers_1d, (3, 3))\n",
    "\n",
    "# len(numbers_2d)"
   ]
  },
  {
   "cell_type": "code",
   "execution_count": 13,
   "id": "e368f310",
   "metadata": {},
   "outputs": [
    {
     "data": {
      "text/plain": [
       "dtype('int64')"
      ]
     },
     "execution_count": 13,
     "metadata": {},
     "output_type": "execute_result"
    }
   ],
   "source": [
    "numbers_2d.ndim\n",
    "numbers_2d.shape\n",
    "numbers_2d.size\n",
    "numbers_2d.dtype\n",
    "\n",
    "# numbers_2d_size = numbers_2d.shape[0] * numbers_2d.shape[1]\n",
    "# print(numbers_2d_size)"
   ]
  }
 ],
 "metadata": {
  "kernelspec": {
   "display_name": ".venv",
   "language": "python",
   "name": "python3"
  },
  "language_info": {
   "codemirror_mode": {
    "name": "ipython",
    "version": 3
   },
   "file_extension": ".py",
   "mimetype": "text/x-python",
   "name": "python",
   "nbconvert_exporter": "python",
   "pygments_lexer": "ipython3",
   "version": "3.12.10"
  }
 },
 "nbformat": 4,
 "nbformat_minor": 5
}
