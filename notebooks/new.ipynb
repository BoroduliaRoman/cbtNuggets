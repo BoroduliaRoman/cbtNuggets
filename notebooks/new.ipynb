{
 "cells": [
  {
   "cell_type": "markdown",
   "id": "ee425fcf",
   "metadata": {},
   "source": [
    "# My first Jupiter Notebook Challenge!\n",
    "\n",
    "This is a challenge to help used to all the Jupiter hotkeys"
   ]
  },
  {
   "cell_type": "code",
   "execution_count": 3,
   "id": "b74f1298",
   "metadata": {},
   "outputs": [],
   "source": [
    "x = [1, 2, 3, 4]"
   ]
  },
  {
   "cell_type": "code",
   "execution_count": 4,
   "id": "e514c11a",
   "metadata": {},
   "outputs": [],
   "source": [
    "for i in range(len(x)):\n",
    "    x[i] *= 2"
   ]
  },
  {
   "cell_type": "code",
   "execution_count": 5,
   "id": "b3b9f5bf",
   "metadata": {},
   "outputs": [
    {
     "name": "stdout",
     "output_type": "stream",
     "text": [
      "2\n",
      "4\n",
      "6\n",
      "8\n"
     ]
    }
   ],
   "source": [
    "for i in x:\n",
    "    print(i)"
   ]
  },
  {
   "cell_type": "code",
   "execution_count": null,
   "id": "0cb74224",
   "metadata": {},
   "outputs": [],
   "source": [
    "x = [1, 2, 3, 4]"
   ]
  },
  {
   "cell_type": "markdown",
   "id": "d3aeabab",
   "metadata": {},
   "source": [
    "This was a **wonderful** challenge!"
   ]
  }
 ],
 "metadata": {
  "kernelspec": {
   "display_name": ".venv",
   "language": "python",
   "name": "python3"
  },
  "language_info": {
   "codemirror_mode": {
    "name": "ipython",
    "version": 3
   },
   "file_extension": ".py",
   "mimetype": "text/x-python",
   "name": "python",
   "nbconvert_exporter": "python",
   "pygments_lexer": "ipython3",
   "version": "3.12.10"
  }
 },
 "nbformat": 4,
 "nbformat_minor": 5
}
