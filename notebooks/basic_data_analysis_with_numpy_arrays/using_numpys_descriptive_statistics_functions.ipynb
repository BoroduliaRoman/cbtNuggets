{
 "cells": [
  {
   "cell_type": "code",
   "execution_count": 2,
   "id": "a69b2a0f",
   "metadata": {},
   "outputs": [],
   "source": [
    "import numpy as np\n",
    "from sklearn.datasets import load_iris"
   ]
  },
  {
   "cell_type": "code",
   "execution_count": 3,
   "id": "c71c3d0a",
   "metadata": {},
   "outputs": [],
   "source": [
    "iris = load_iris()"
   ]
  },
  {
   "cell_type": "code",
   "execution_count": 5,
   "id": "662ef12c",
   "metadata": {},
   "outputs": [],
   "source": [
    "row_targets = iris.target_names[iris.target]"
   ]
  },
  {
   "cell_type": "code",
   "execution_count": 6,
   "id": "a6892114",
   "metadata": {},
   "outputs": [],
   "source": [
    "setosas, versicolors, virginicas = ([iris.data[row_targets == x] for x in iris.target_names])"
   ]
  },
  {
   "cell_type": "code",
   "execution_count": 11,
   "id": "b9c1962a",
   "metadata": {},
   "outputs": [
    {
     "name": "stdout",
     "output_type": "stream",
     "text": [
      "[5.006 3.428 1.462 0.246]\n",
      "[5.  3.4 1.5 0.2]\n",
      "[0.34894699 0.37525458 0.17191859 0.10432641]\n",
      "[0.121764 0.140816 0.029556 0.010884]\n",
      "[4.3 2.3 1.  0.1]\n",
      "[5.8 4.4 1.9 0.6]\n"
     ]
    }
   ],
   "source": [
    "print(np.mean(setosas, axis = 0))\n",
    "print(np.median(setosas, axis = 0))\n",
    "print(np.std(setosas, axis = 0))\n",
    "print(np.var(setosas, axis = 0))\n",
    "print(np.min(setosas, axis = 0))\n",
    "print(np.max(setosas, axis = 0))"
   ]
  },
  {
   "cell_type": "code",
   "execution_count": 15,
   "id": "cfbe3f01",
   "metadata": {},
   "outputs": [
    {
     "name": "stdout",
     "output_type": "stream",
     "text": [
      "[5.006 3.428 1.462 0.246]\n",
      "[5.936 2.77  4.26  1.326]\n",
      "[6.588 2.974 5.552 2.026]\n",
      "\n",
      "[5.  3.4 1.5 0.2]\n",
      "[5.9  2.8  4.35 1.3 ]\n",
      "[6.5  3.   5.55 2.  ]\n",
      "\n",
      "[0.34894699 0.37525458 0.17191859 0.10432641]\n",
      "[0.51098337 0.31064449 0.46518813 0.19576517]\n",
      "[0.62948868 0.31925538 0.54634787 0.27188968]\n"
     ]
    }
   ],
   "source": [
    "print(np.mean(setosas, axis = 0))\n",
    "print(np.mean(versicolors, axis = 0))\n",
    "print(np.mean(virginicas, axis = 0))\n",
    "print()\n",
    "print(np.median(setosas, axis = 0))\n",
    "print(np.median(versicolors, axis = 0))\n",
    "print(np.median(virginicas, axis = 0))\n",
    "print()\n",
    "print(np.std(setosas, axis = 0))\n",
    "print(np.std(versicolors, axis = 0))\n",
    "print(np.std(virginicas, axis = 0))"
   ]
  },
  {
   "cell_type": "code",
   "execution_count": 21,
   "id": "eb2d43ac",
   "metadata": {},
   "outputs": [],
   "source": [
    "descriptive_stats = np.array([\n",
    "    [\n",
    "        np.mean(setosas, axis = 0),\n",
    "        np.mean(versicolors, axis = 0),\n",
    "        np.mean(virginicas, axis = 0),\n",
    "    ],\n",
    "    [\n",
    "        np.std(setosas, axis = 0),\n",
    "        np.std(versicolors, axis = 0),\n",
    "        np.std(virginicas, axis = 0),\n",
    "    ]\n",
    "])"
   ]
  },
  {
   "cell_type": "code",
   "execution_count": 22,
   "id": "bd8073cd",
   "metadata": {},
   "outputs": [
    {
     "name": "stdout",
     "output_type": "stream",
     "text": [
      "[[[5.006      3.428      1.462      0.246     ]\n",
      "  [5.936      2.77       4.26       1.326     ]\n",
      "  [6.588      2.974      5.552      2.026     ]]\n",
      "\n",
      " [[0.34894699 0.37525458 0.17191859 0.10432641]\n",
      "  [0.51098337 0.31064449 0.46518813 0.19576517]\n",
      "  [0.62948868 0.31925538 0.54634787 0.27188968]]]\n"
     ]
    }
   ],
   "source": [
    "print(descriptive_stats)"
   ]
  }
 ],
 "metadata": {
  "kernelspec": {
   "display_name": ".venv",
   "language": "python",
   "name": "python3"
  },
  "language_info": {
   "codemirror_mode": {
    "name": "ipython",
    "version": 3
   },
   "file_extension": ".py",
   "mimetype": "text/x-python",
   "name": "python",
   "nbconvert_exporter": "python",
   "pygments_lexer": "ipython3",
   "version": "3.12.10"
  }
 },
 "nbformat": 4,
 "nbformat_minor": 5
}
