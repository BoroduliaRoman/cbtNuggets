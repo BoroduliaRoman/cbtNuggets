{
 "cells": [
  {
   "cell_type": "code",
   "execution_count": 12,
   "id": "70240fe2",
   "metadata": {},
   "outputs": [
    {
     "name": "stdout",
     "output_type": "stream",
     "text": [
      "[ 99   2   3   4   5   6   7   8   9 456]\n",
      "[  7   8   9 456]\n",
      "[ 99   2   3   4   5   6 700   8   9 456]\n"
     ]
    }
   ],
   "source": [
    "import numpy as np\n",
    "\n",
    "arr = np.array([1, 2, 3, 4, 5, 6, 7, 8, 9, 10])\n",
    "arr1 = np.array([10, 20, 30, 40, 50, 60, 70, 80, 90, 100])\n",
    "\n",
    "arr[0] = 99\n",
    "arr[-1] = 456\n",
    "\n",
    "print(arr)\n",
    "\n",
    "last_four = arr[-4:]\n",
    "\n",
    "print(last_four)\n",
    "\n",
    "last_four[0] = 700\n",
    "\n",
    "print(arr)"
   ]
  },
  {
   "cell_type": "code",
   "execution_count": 9,
   "id": "2671d863",
   "metadata": {},
   "outputs": [
    {
     "name": "stdout",
     "output_type": "stream",
     "text": [
      "[99, 2, 3, 4, 5, 6, 7, 8, 9, 456]\n"
     ]
    }
   ],
   "source": [
    "l = [99, 2, 3, 4, 5, 6, 7, 8, 9, 456]\n",
    "l_copy = l[:]\n",
    "\n",
    "print(l[:])"
   ]
  }
 ],
 "metadata": {
  "kernelspec": {
   "display_name": ".venv",
   "language": "python",
   "name": "python3"
  },
  "language_info": {
   "codemirror_mode": {
    "name": "ipython",
    "version": 3
   },
   "file_extension": ".py",
   "mimetype": "text/x-python",
   "name": "python",
   "nbconvert_exporter": "python",
   "pygments_lexer": "ipython3",
   "version": "3.12.10"
  }
 },
 "nbformat": 4,
 "nbformat_minor": 5
}
