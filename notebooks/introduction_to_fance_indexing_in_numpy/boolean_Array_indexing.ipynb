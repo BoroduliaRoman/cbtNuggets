{
 "cells": [
  {
   "cell_type": "code",
   "execution_count": 1,
   "id": "b085d280",
   "metadata": {},
   "outputs": [],
   "source": [
    "import numpy as np"
   ]
  },
  {
   "cell_type": "code",
   "execution_count": 17,
   "id": "e0e07557",
   "metadata": {},
   "outputs": [
    {
     "data": {
      "text/plain": [
       "array([ 2,  4,  6,  7,  8,  9, 10, 11, 12, 13, 14, 15, 16, 17, 18, 19, 20])"
      ]
     },
     "execution_count": 17,
     "metadata": {},
     "output_type": "execute_result"
    }
   ],
   "source": [
    "numbers = np.arange(1, 21)\n",
    "\n",
    "[x for x in numbers if x % 2 == 0]\n",
    "\n",
    "numbers[numbers % 2 == 0]\n",
    "numbers % 2\n",
    "numbers == 5\n",
    "numbers % 2 == 0\n",
    "\n",
    "numbers[numbers > 10]\n",
    "numbers[numbers == 5]\n",
    "\n",
    "numbers[(numbers % 2 == 0) | (numbers > 5)]"
   ]
  }
 ],
 "metadata": {
  "kernelspec": {
   "display_name": ".venv",
   "language": "python",
   "name": "python3"
  },
  "language_info": {
   "codemirror_mode": {
    "name": "ipython",
    "version": 3
   },
   "file_extension": ".py",
   "mimetype": "text/x-python",
   "name": "python",
   "nbconvert_exporter": "python",
   "pygments_lexer": "ipython3",
   "version": "3.12.10"
  }
 },
 "nbformat": 4,
 "nbformat_minor": 5
}
