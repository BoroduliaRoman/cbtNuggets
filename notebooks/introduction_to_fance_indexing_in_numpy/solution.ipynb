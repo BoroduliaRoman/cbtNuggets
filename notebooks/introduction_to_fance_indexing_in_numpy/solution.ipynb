{
 "cells": [
  {
   "cell_type": "code",
   "execution_count": 2,
   "id": "d56fa06a",
   "metadata": {},
   "outputs": [],
   "source": [
    "import numpy as np"
   ]
  },
  {
   "cell_type": "code",
   "execution_count": 12,
   "id": "b3060f9b",
   "metadata": {},
   "outputs": [
    {
     "name": "stdout",
     "output_type": "stream",
     "text": [
      "[ 6  7 23 24]\n",
      "[ 6  7  8  9 10 11]\n"
     ]
    },
    {
     "data": {
      "text/plain": [
       "array([[ 5,  9],\n",
       "       [10, 14],\n",
       "       [15, 19],\n",
       "       [20, 24]])"
      ]
     },
     "execution_count": 12,
     "metadata": {},
     "output_type": "execute_result"
    }
   ],
   "source": [
    "# 1\n",
    "arr = np.arange(0, 25)\n",
    "print(arr[arr > 5][[0, 1, -2, -1]])\n",
    "\n",
    "#2 \n",
    "first_half = arr[np.arange(0, arr.size // 2)]\n",
    "print(first_half[first_half > 5])\n",
    "\n",
    "#3\n",
    "arr_extend = arr.reshape((5, 5))\n",
    "arr_extend[np.sum(arr_extend, axis = 1) > 20][:, [0, -1]]"
   ]
  }
 ],
 "metadata": {
  "kernelspec": {
   "display_name": ".venv",
   "language": "python",
   "name": "python3"
  },
  "language_info": {
   "codemirror_mode": {
    "name": "ipython",
    "version": 3
   },
   "file_extension": ".py",
   "mimetype": "text/x-python",
   "name": "python",
   "nbconvert_exporter": "python",
   "pygments_lexer": "ipython3",
   "version": "3.12.10"
  }
 },
 "nbformat": 4,
 "nbformat_minor": 5
}
