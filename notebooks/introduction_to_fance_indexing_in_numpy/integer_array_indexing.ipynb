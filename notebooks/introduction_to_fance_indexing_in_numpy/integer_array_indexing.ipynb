{
 "cells": [
  {
   "cell_type": "code",
   "execution_count": null,
   "id": "61f02a24",
   "metadata": {},
   "outputs": [],
   "source": [
    "import numpy as np"
   ]
  },
  {
   "cell_type": "code",
   "execution_count": 16,
   "id": "c3459a18",
   "metadata": {},
   "outputs": [
    {
     "name": "stdout",
     "output_type": "stream",
     "text": [
      "[ 0  4  8 12 16 20]\n",
      "[ 2  6 10 14 18]\n"
     ]
    }
   ],
   "source": [
    "arr = np.arange(0, 21, 2)\n",
    "# indicies = np.array([0, 1, -2, -1])\n",
    "even_indicies = np.arange(0, arr.size, 2)\n",
    "odd_indicies = np.arange(1, arr.size, 2)\n",
    "\n",
    "print(arr[even_indicies])\n",
    "print(arr[odd_indicies])"
   ]
  }
 ],
 "metadata": {
  "kernelspec": {
   "display_name": ".venv",
   "language": "python",
   "name": "python3"
  },
  "language_info": {
   "codemirror_mode": {
    "name": "ipython",
    "version": 3
   },
   "file_extension": ".py",
   "mimetype": "text/x-python",
   "name": "python",
   "nbconvert_exporter": "python",
   "pygments_lexer": "ipython3",
   "version": "3.12.10"
  }
 },
 "nbformat": 4,
 "nbformat_minor": 5
}
